{
 "cells": [
  {
   "cell_type": "code",
   "execution_count": 2,
   "metadata": {},
   "outputs": [
    {
     "name": "stdout",
     "output_type": "stream",
     "text": [
      "Requirement already satisfied: webdriver_manager in /Users/eli/.pyenv/versions/3.10.9/lib/python3.10/site-packages (4.0.2)\n",
      "Requirement already satisfied: requests in /Users/eli/.pyenv/versions/3.10.9/lib/python3.10/site-packages (from webdriver_manager) (2.32.2)\n",
      "Requirement already satisfied: python-dotenv in /Users/eli/.pyenv/versions/3.10.9/lib/python3.10/site-packages (from webdriver_manager) (1.0.0)\n",
      "Requirement already satisfied: packaging in /Users/eli/.pyenv/versions/3.10.9/lib/python3.10/site-packages (from webdriver_manager) (23.2)\n",
      "Requirement already satisfied: charset-normalizer<4,>=2 in /Users/eli/.pyenv/versions/3.10.9/lib/python3.10/site-packages (from requests->webdriver_manager) (3.2.0)\n",
      "Requirement already satisfied: idna<4,>=2.5 in /Users/eli/.pyenv/versions/3.10.9/lib/python3.10/site-packages (from requests->webdriver_manager) (3.4)\n",
      "Requirement already satisfied: urllib3<3,>=1.21.1 in /Users/eli/.pyenv/versions/3.10.9/lib/python3.10/site-packages (from requests->webdriver_manager) (2.0.4)\n",
      "Requirement already satisfied: certifi>=2017.4.17 in /Users/eli/.pyenv/versions/3.10.9/lib/python3.10/site-packages (from requests->webdriver_manager) (2023.7.22)\n",
      "\n",
      "\u001b[1m[\u001b[0m\u001b[34;49mnotice\u001b[0m\u001b[1;39;49m]\u001b[0m\u001b[39;49m A new release of pip is available: \u001b[0m\u001b[31;49m24.2\u001b[0m\u001b[39;49m -> \u001b[0m\u001b[32;49m24.3.1\u001b[0m\n",
      "\u001b[1m[\u001b[0m\u001b[34;49mnotice\u001b[0m\u001b[1;39;49m]\u001b[0m\u001b[39;49m To update, run: \u001b[0m\u001b[32;49mpip install --upgrade pip\u001b[0m\n",
      "Note: you may need to restart the kernel to use updated packages.\n"
     ]
    }
   ],
   "source": [
    "%pip install webdriver_manager"
   ]
  },
  {
   "cell_type": "code",
   "execution_count": 3,
   "metadata": {},
   "outputs": [
    {
     "name": "stderr",
     "output_type": "stream",
     "text": [
      "11-26 16:25:28 - INFO - helpers.py - set_secrets() - line 27 - env_path/Users/eli/github/tunemeld/.env.dev\n"
     ]
    }
   ],
   "source": [
    "import os\n",
    "import sys\n",
    "\n",
    "current_dir = os.getcwd()\n",
    "\n",
    "parent_dir = os.path.abspath(os.path.join(current_dir, \"..\"))\n",
    "sys.path.append(parent_dir)\n",
    "\n",
    "from playlist_etl.helpers import set_secrets\n",
    "from playlist_etl.utils import WebDriverManager\n",
    "\n",
    "set_secrets()"
   ]
  },
  {
   "cell_type": "code",
   "execution_count": 4,
   "metadata": {},
   "outputs": [],
   "source": [
    "SPOTIFY_VIEW_COUNT_XPATH = (\n",
    "    '(//*[contains(concat(\" \", @class, \" \"), concat(\" \", \"w1TBi3o5CTM7zW1EB3Bm\", \" \"))])[4]'\n",
    ")"
   ]
  },
  {
   "cell_type": "code",
   "execution_count": null,
   "metadata": {},
   "outputs": [],
   "source": []
  },
  {
   "cell_type": "code",
   "execution_count": 5,
   "metadata": {},
   "outputs": [
    {
     "ename": "NameError",
     "evalue": "name 'webdriver' is not defined",
     "output_type": "error",
     "traceback": [
      "\u001b[0;31m---------------------------------------------------------------------------\u001b[0m",
      "\u001b[0;31mNameError\u001b[0m                                 Traceback (most recent call last)",
      "Cell \u001b[0;32mIn[5], line 1\u001b[0m\n\u001b[0;32m----> 1\u001b[0m \u001b[43mwebdriver\u001b[49m\u001b[38;5;241m.\u001b[39mget_spotify_track_view_count(\u001b[38;5;124m\"\u001b[39m\u001b[38;5;124mhttps://open.spotify.com/track/52dEZA0A4siRTuA4e8w3ll\u001b[39m\u001b[38;5;124m\"\u001b[39m)\n",
      "\u001b[0;31mNameError\u001b[0m: name 'webdriver' is not defined"
     ]
    }
   ],
   "source": [
    "webdriver.get_spotify_track_view_count(\"https://open.spotify.com/track/52dEZA0A4siRTuA4e8w3ll\")"
   ]
  },
  {
   "cell_type": "code",
   "execution_count": 43,
   "metadata": {},
   "outputs": [],
   "source": [
    "def get_spotify_track_view_count(url: str, webdriver_manager: WebDriverManager) -> int:\n",
    "    try:\n",
    "        logging.info(SPOTIFY_VIEW_COUNT_XPATH)\n",
    "        play_count_info = webdriver_manager.find_element_by_xpath(url, SPOTIFY_VIEW_COUNT_XPATH)\n",
    "        if play_count_info:\n",
    "            logger.info(f\"original spotify play count value {play_count_info}\")\n",
    "            play_count = int(play_count_info.replace(\",\", \"\"))\n",
    "            logger.info(play_count)\n",
    "            return play_count\n",
    "    except Exception as e:\n",
    "        print(f\"Error with xpath {SPOTIFY_VIEW_COUNT_XPATH}: {e}\")\n",
    "\n",
    "    raise ValueError(f\"Could not find play count for {url}\")"
   ]
  },
  {
   "cell_type": "code",
   "execution_count": 44,
   "metadata": {},
   "outputs": [
    {
     "name": "stderr",
     "output_type": "stream",
     "text": [
      "10-02 08:02:10 - INFO - find_element_by_xpath() - Attempting to find element on URL: https://open.spotify.com/track/7Fzl7QaTu47WyP9R5S5mh5 using XPath: (//*[contains(concat(\" \", @class, \" \"), concat(\" \", \"w1TBi3o5CTM7zW1EB3Bm\", \" \"))])[4]\n",
      "INFO:playlist_etl.utils:Attempting to find element on URL: https://open.spotify.com/track/7Fzl7QaTu47WyP9R5S5mh5 using XPath: (//*[contains(concat(\" \", @class, \" \"), concat(\" \", \"w1TBi3o5CTM7zW1EB3Bm\", \" \"))])[4]\n",
      "10-02 08:02:10 - INFO - _attempt_find_element() - Navigating to URL: https://open.spotify.com/track/7Fzl7QaTu47WyP9R5S5mh5\n",
      "INFO:playlist_etl.utils:Navigating to URL: https://open.spotify.com/track/7Fzl7QaTu47WyP9R5S5mh5\n",
      "10-02 08:02:15 - INFO - _attempt_find_element() - Successfully found element text: 127,826,994\n",
      "INFO:playlist_etl.utils:Successfully found element text: 127,826,994\n",
      "10-02 08:02:15 - INFO - get_spotify_track_view_count() - original spotify play count value 127,826,994\n",
      "INFO:playlist_etl.extract:original spotify play count value 127,826,994\n",
      "10-02 08:02:15 - INFO - get_spotify_track_view_count() - 127826994\n",
      "INFO:playlist_etl.extract:127826994\n"
     ]
    },
    {
     "data": {
      "text/plain": [
       "127826994"
      ]
     },
     "execution_count": 44,
     "metadata": {},
     "output_type": "execute_result"
    }
   ],
   "source": [
    "webdriver = WebDriverManager()\n",
    "get_spotify_track_view_count(\"https://open.spotify.com/track/7Fzl7QaTu47WyP9R5S5mh5\", webdriver)"
   ]
  },
  {
   "cell_type": "code",
   "execution_count": null,
   "metadata": {},
   "outputs": [],
   "source": []
  },
  {
   "cell_type": "code",
   "execution_count": null,
   "metadata": {},
   "outputs": [],
   "source": []
  },
  {
   "cell_type": "code",
   "execution_count": null,
   "metadata": {},
   "outputs": [],
   "source": []
  },
  {
   "cell_type": "code",
   "execution_count": null,
   "metadata": {},
   "outputs": [],
   "source": []
  }
 ],
 "metadata": {
  "kernelspec": {
   "display_name": "Python 3",
   "language": "python",
   "name": "python3"
  },
  "language_info": {
   "codemirror_mode": {
    "name": "ipython",
    "version": 3
   },
   "file_extension": ".py",
   "mimetype": "text/x-python",
   "name": "python",
   "nbconvert_exporter": "python",
   "pygments_lexer": "ipython3",
   "version": "3.10.9"
  }
 },
 "nbformat": 4,
 "nbformat_minor": 2
}
