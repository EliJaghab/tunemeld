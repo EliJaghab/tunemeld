{
 "cells": [
  {
   "cell_type": "code",
   "execution_count": 34,
   "metadata": {},
   "outputs": [
    {
     "name": "stdout",
     "output_type": "stream",
     "text": [
      "Requirement already satisfied: deepdiff in /Users/eli/.pyenv/versions/3.10.9/lib/python3.10/site-packages (8.0.1)\n",
      "Requirement already satisfied: orderly-set==5.2.2 in /Users/eli/.pyenv/versions/3.10.9/lib/python3.10/site-packages (from deepdiff) (5.2.2)\n",
      "\n",
      "\u001b[1m[\u001b[0m\u001b[34;49mnotice\u001b[0m\u001b[1;39;49m]\u001b[0m\u001b[39;49m A new release of pip is available: \u001b[0m\u001b[31;49m24.2\u001b[0m\u001b[39;49m -> \u001b[0m\u001b[32;49m24.3.1\u001b[0m\n",
      "\u001b[1m[\u001b[0m\u001b[34;49mnotice\u001b[0m\u001b[1;39;49m]\u001b[0m\u001b[39;49m To update, run: \u001b[0m\u001b[32;49mpip install --upgrade pip\u001b[0m\n"
     ]
    }
   ],
   "source": [
    "!pip install deepdiff\n",
    "import requests\n",
    "from deepdiff import DeepDiff\n",
    "\n",
    "genres = [\"dance\", \"pop\", \"rap\", \"country\"]"
   ]
  },
  {
   "cell_type": "code",
   "execution_count": null,
   "metadata": {},
   "outputs": [
    {
     "name": "stdout",
     "output_type": "stream",
     "text": [
      "Difference found\n",
      "{'isrc': 'GB5KW2402411', 'track_name': 'Shine On', 'artist_name': 'Kaskade', 'youtube_url': 'https://www.youtube.com/watch?v=gUCy3XALejM', 'album_cover_url': 'https://i1.sndcdn.com/artworks-hrxNvvvNTix6-0-original.jpg'}\n",
      "{'isrc': 'GB5KW2402411', 'track_name': 'Shine On', 'artist_name': 'Kaskade', 'youtube_url': 'https://www.youtube.com/watch?v=gUCy3XALejM', 'album_cover_url': 'https://i1.sndcdn.com/artworks-hrxNvvvNTix6-0-original.jpg', 'view_counts': {'Spotify': [], 'Youtube': []}}\n",
      "Difference found\n",
      "{'isrc': 'USA2P2446028', 'track_name': 'Talk To Me', 'artist_name': 'Champion, Four Tet, Skrillex & Naisha', 'youtube_url': 'https://www.youtube.com/watch?v=Zbf7WsypIkc', 'album_cover_url': 'https://i1.sndcdn.com/artworks-fQLAkAzltg7i2lDE-bYj94w-original.jpg'}\n",
      "{'isrc': 'USA2P2446028', 'track_name': 'Talk To Me', 'artist_name': 'Champion, Four Tet, Skrillex & Naisha', 'youtube_url': 'https://www.youtube.com/watch?v=Zbf7WsypIkc', 'album_cover_url': 'https://i1.sndcdn.com/artworks-fQLAkAzltg7i2lDE-bYj94w-original.jpg', 'view_counts': {'Spotify': [], 'Youtube': []}}\n",
      "Difference found\n",
      "{'isrc': 'USUG12405639', 'track_name': 'Move (feat. Keinemusik, Malachiii & Orso)', 'artist_name': 'Adam Port, Stryv & Camila Cabello', 'youtube_url': 'https://www.youtube.com/watch?v=95dB-ObZ7Ho', 'album_cover_url': 'https://is1-ssl.mzstatic.com/image/thumb/Music221/v4/07/64/cc/0764cc54-d6a1-8d1f-4381-737fd7a2ed02/24UM1IM06602.rgb.jpg/296x296bb-60.jpg'}\n",
      "{'isrc': 'USUG12405639', 'track_name': 'Move (feat. Keinemusik, Malachiii & Orso)', 'artist_name': 'Adam Port, Stryv & Camila Cabello', 'youtube_url': 'https://www.youtube.com/watch?v=95dB-ObZ7Ho', 'album_cover_url': 'https://is1-ssl.mzstatic.com/image/thumb/Music221/v4/07/64/cc/0764cc54-d6a1-8d1f-4381-737fd7a2ed02/24UM1IM06602.rgb.jpg/296x296bb-60.jpg', 'view_counts': {'Spotify': [], 'Youtube': []}}\n",
      "Difference found\n",
      "{'isrc': 'USUM72408549', 'track_name': 'Heart of Gold', 'artist_name': 'OfficialShawnMendes', 'youtube_url': 'https://www.youtube.com/watch?v=r7__5jmJ-tA', 'album_cover_url': 'https://i1.sndcdn.com/artworks-RW6n7TuIJnXa-0-original.jpg'}\n",
      "{'isrc': 'USUM72408549', 'track_name': 'Heart of Gold', 'artist_name': 'OfficialShawnMendes', 'youtube_url': 'https://www.youtube.com/watch?v=r7__5jmJ-tA', 'album_cover_url': 'https://i1.sndcdn.com/artworks-RW6n7TuIJnXa-0-original.jpg', 'view_counts': {'Spotify': [], 'Youtube': []}}\n",
      "Difference found\n",
      "{'isrc': 'USUG12406903', 'track_name': 'That’s So True', 'artist_name': 'Gracie Abrams', 'youtube_url': 'https://www.youtube.com/watch?v=BDHM8cyJQa8', 'album_cover_url': 'https://is1-ssl.mzstatic.com/image/thumb/Music211/v4/26/78/81/26788143-5e5f-0813-2480-ecf4280ef221/24UM1IM07082.rgb.jpg/296x296bb-60.jpg'}\n",
      "{'isrc': 'USUG12406903', 'track_name': 'That’s So True', 'artist_name': 'Gracie Abrams', 'youtube_url': 'https://www.youtube.com/watch?v=BDHM8cyJQa8', 'album_cover_url': 'https://is1-ssl.mzstatic.com/image/thumb/Music211/v4/26/78/81/26788143-5e5f-0813-2480-ecf4280ef221/24UM1IM07082.rgb.jpg/296x296bb-60.jpg', 'view_counts': {'Spotify': [], 'Youtube': []}}\n",
      "Difference found\n",
      "{'isrc': 'USAT22409494', 'track_name': 'Chill Bae', 'artist_name': 'Lil Uzi Vert', 'youtube_url': 'https://www.youtube.com/watch?v=D7F42F_JM3U', 'album_cover_url': 'https://i1.sndcdn.com/artworks-aCNlBB5nsTny-0-original.jpg'}\n",
      "{'isrc': 'USAT22409494', 'track_name': 'Chill Bae', 'artist_name': 'Lil Uzi Vert', 'youtube_url': 'https://www.youtube.com/watch?v=D7F42F_JM3U', 'album_cover_url': 'https://i1.sndcdn.com/artworks-aCNlBB5nsTny-0-original.jpg', 'view_counts': {'Spotify': [], 'Youtube': []}}\n",
      "Difference found\n",
      "{'isrc': 'USQX92405786', 'track_name': 'Darling, I (feat. Teezo Touchdown)', 'artist_name': 'Tyler, The Creator', 'youtube_url': 'https://www.youtube.com/watch?v=ZWDoUsxpkKE', 'album_cover_url': 'https://i1.sndcdn.com/artworks-zdEkjvalUw2b-0-original.jpg'}\n",
      "{'isrc': 'USQX92405786', 'track_name': 'Darling, I (feat. Teezo Touchdown)', 'artist_name': 'Tyler, The Creator', 'youtube_url': 'https://www.youtube.com/watch?v=ZWDoUsxpkKE', 'album_cover_url': 'https://i1.sndcdn.com/artworks-zdEkjvalUw2b-0-original.jpg', 'view_counts': {'Spotify': [], 'Youtube': []}}\n",
      "Difference found\n",
      "{'isrc': 'USSM12408345', 'track_name': 'SOUTH OF FRANCE (REMIX)', 'artist_name': 'Future', 'youtube_url': 'https://www.youtube.com/watch?v=JEKO7VRrnuk', 'album_cover_url': 'https://i1.sndcdn.com/artworks-ZZ4d7POml4RP-0-original.jpg'}\n",
      "{'isrc': 'USSM12408345', 'track_name': 'SOUTH OF FRANCE (REMIX)', 'artist_name': 'Future', 'youtube_url': 'https://www.youtube.com/watch?v=JEKO7VRrnuk', 'album_cover_url': 'https://i1.sndcdn.com/artworks-ZZ4d7POml4RP-0-original.jpg', 'view_counts': {'Spotify': [], 'Youtube': []}}\n",
      "Difference found\n",
      "{'isrc': 'USUG12407491', 'track_name': 'Catch Fire', 'artist_name': 'Kodak Black', 'youtube_url': 'https://www.youtube.com/watch?v=EfPXXlE_bKM', 'album_cover_url': 'https://i1.sndcdn.com/artworks-m1BKwahs98i5-0-original.jpg'}\n",
      "{'isrc': 'USUG12407491', 'track_name': 'Catch Fire', 'artist_name': 'Kodak Black', 'youtube_url': 'https://www.youtube.com/watch?v=EfPXXlE_bKM', 'album_cover_url': 'https://i1.sndcdn.com/artworks-m1BKwahs98i5-0-original.jpg', 'view_counts': {'Spotify': [], 'Youtube': []}}\n",
      "Difference found\n",
      "{'isrc': 'USUM72412202', 'track_name': 'NEVER FIND (feat. K Carbon)', 'artist_name': 'GloRilla', 'youtube_url': 'https://www.youtube.com/watch?v=5na3pIVxPhI', 'album_cover_url': 'https://i1.sndcdn.com/artworks-tjUQIRHciZaf-0-original.jpg'}\n",
      "{'isrc': 'USUM72412202', 'track_name': 'NEVER FIND (feat. K Carbon)', 'artist_name': 'GloRilla', 'youtube_url': 'https://www.youtube.com/watch?v=5na3pIVxPhI', 'album_cover_url': 'https://i1.sndcdn.com/artworks-tjUQIRHciZaf-0-original.jpg', 'view_counts': {'Spotify': [], 'Youtube': []}}\n",
      "Difference found\n",
      "{'isrc': 'USQX92405793', 'track_name': 'Thought I Was Dead (feat. ScHoolboy Q & Santigold)', 'artist_name': 'Tyler, The Creator', 'youtube_url': 'https://www.youtube.com/watch?v=_RuuRU0bGLc', 'album_cover_url': 'https://is1-ssl.mzstatic.com/image/thumb/Music221/v4/7d/bd/e9/7dbde97e-b97d-8cc3-0203-218b687408a9/196872555059.jpg/296x296bb-60.jpg'}\n",
      "{'isrc': 'USQX92405793', 'track_name': 'Thought I Was Dead (feat. ScHoolboy Q & Santigold)', 'artist_name': 'Tyler, The Creator', 'youtube_url': 'https://www.youtube.com/watch?v=_RuuRU0bGLc', 'album_cover_url': 'https://is1-ssl.mzstatic.com/image/thumb/Music221/v4/7d/bd/e9/7dbde97e-b97d-8cc3-0203-218b687408a9/196872555059.jpg/296x296bb-60.jpg', 'view_counts': {'Spotify': [], 'Youtube': []}}\n",
      "Difference found\n",
      "{'isrc': 'QMDA62478846', 'track_name': \"It's Your Anniversary\", 'artist_name': 'Freddie Gibbs', 'youtube_url': 'https://www.youtube.com/watch?v=siK1nrjN3LM', 'album_cover_url': 'https://is1-ssl.mzstatic.com/image/thumb/Music221/v4/b9/94/33/b9943347-565b-faac-02a4-ab015103970a/198846623849.jpg/296x296bb-60.jpg'}\n",
      "{'isrc': 'QMDA62478846', 'track_name': \"It's Your Anniversary\", 'artist_name': 'Freddie Gibbs', 'youtube_url': 'https://www.youtube.com/watch?v=siK1nrjN3LM', 'album_cover_url': 'https://is1-ssl.mzstatic.com/image/thumb/Music221/v4/b9/94/33/b9943347-565b-faac-02a4-ab015103970a/198846623849.jpg/296x296bb-60.jpg', 'view_counts': {'Spotify': [], 'Youtube': []}}\n",
      "Difference found\n",
      "{'isrc': 'USAT22409693', 'track_name': 'In The Morning (feat. Ty Dolla $ign)', 'artist_name': 'Hunxho', 'youtube_url': 'https://www.youtube.com/watch?v=iwBQxuWijHM', 'album_cover_url': 'https://i1.sndcdn.com/artworks-TfZfGEXb4g24Ngeq-tPr0oA-original.png'}\n",
      "{'isrc': 'USAT22409693', 'track_name': 'In The Morning (feat. Ty Dolla $ign)', 'artist_name': 'Hunxho', 'youtube_url': 'https://www.youtube.com/watch?v=iwBQxuWijHM', 'album_cover_url': 'https://i1.sndcdn.com/artworks-TfZfGEXb4g24Ngeq-tPr0oA-original.png', 'view_counts': {'Spotify': [], 'Youtube': []}}\n",
      "Difference found\n",
      "{'isrc': 'USQX92405790', 'track_name': 'Sticky (feat. GloRilla, Sexyy Red & Lil Wayne)', 'artist_name': 'Tyler, The Creator', 'youtube_url': 'https://www.youtube.com/watch?v=sVNuC7D81pk', 'album_cover_url': 'https://is1-ssl.mzstatic.com/image/thumb/Music221/v4/7d/bd/e9/7dbde97e-b97d-8cc3-0203-218b687408a9/196872555059.jpg/296x296bb-60.jpg'}\n",
      "{'isrc': 'USQX92405790', 'track_name': 'Sticky (feat. GloRilla, Sexyy Red & Lil Wayne)', 'artist_name': 'Tyler, The Creator', 'youtube_url': 'https://www.youtube.com/watch?v=sVNuC7D81pk', 'album_cover_url': 'https://is1-ssl.mzstatic.com/image/thumb/Music221/v4/7d/bd/e9/7dbde97e-b97d-8cc3-0203-218b687408a9/196872555059.jpg/296x296bb-60.jpg', 'view_counts': {'Spotify': [], 'Youtube': []}}\n",
      "Difference found\n",
      "{'isrc': 'USAT22408980', 'track_name': 'Thought of You', 'artist_name': 'Sam Barber', 'youtube_url': 'https://www.youtube.com/watch?v=Z5AkMoe71Kg', 'album_cover_url': 'https://is1-ssl.mzstatic.com/image/thumb/Music211/v4/74/52/77/745277cf-4917-193f-829a-876ab625f01b/075679629432.jpg/296x296bb-60.jpg'}\n",
      "{'isrc': 'USAT22408980', 'track_name': 'Thought of You', 'artist_name': 'Sam Barber', 'youtube_url': 'https://www.youtube.com/watch?v=Z5AkMoe71Kg', 'album_cover_url': 'https://is1-ssl.mzstatic.com/image/thumb/Music211/v4/74/52/77/745277cf-4917-193f-829a-876ab625f01b/075679629432.jpg/296x296bb-60.jpg', 'view_counts': {'Spotify': [], 'Youtube': []}}\n"
     ]
    }
   ],
   "source": [
    "for genre in genres:\n",
    "    django_response = requests.get(f\"https://api.tunemeld.com/graph-data/{genre}\").json()[\"data\"]\n",
    "    existing_response = requests.get(f\"https://tunemeld.com/api/graph-data?genre={genre}\").json()\n",
    "    for item in zip(django_response, existing_response, strict=False):\n",
    "        diff = DeepDiff(item[0], item[1])\n",
    "        if diff:\n",
    "            print(\"Difference found\")\n",
    "            print(item[0])\n",
    "            print(item[1])"
   ]
  },
  {
   "cell_type": "code",
   "execution_count": null,
   "metadata": {},
   "outputs": [],
   "source": []
  },
  {
   "cell_type": "code",
   "execution_count": null,
   "metadata": {},
   "outputs": [],
   "source": []
  },
  {
   "cell_type": "code",
   "execution_count": null,
   "metadata": {},
   "outputs": [
    {
     "name": "stdout",
     "output_type": "stream",
     "text": [
      "Difference found\n",
      "{'isrc': 'GB5KW2402411', 'track_name': 'Shine On', 'artist_name': 'Kaskade', 'youtube_url': 'https://www.youtube.com/watch?v=gUCy3XALejM', 'album_cover_url': 'https://i1.sndcdn.com/artworks-hrxNvvvNTix6-0-original.jpg'}\n",
      "{'isrc': 'GB5KW2402411', 'track_name': 'Shine On', 'artist_name': 'Kaskade', 'youtube_url': 'https://www.youtube.com/watch?v=gUCy3XALejM', 'album_cover_url': 'https://i1.sndcdn.com/artworks-hrxNvvvNTix6-0-original.jpg', 'view_counts': {'Spotify': [], 'Youtube': []}}\n",
      "Difference found\n",
      "{'isrc': 'USA2P2446028', 'track_name': 'Talk To Me', 'artist_name': 'Champion, Four Tet, Skrillex & Naisha', 'youtube_url': 'https://www.youtube.com/watch?v=Zbf7WsypIkc', 'album_cover_url': 'https://i1.sndcdn.com/artworks-fQLAkAzltg7i2lDE-bYj94w-original.jpg'}\n",
      "{'isrc': 'USA2P2446028', 'track_name': 'Talk To Me', 'artist_name': 'Champion, Four Tet, Skrillex & Naisha', 'youtube_url': 'https://www.youtube.com/watch?v=Zbf7WsypIkc', 'album_cover_url': 'https://i1.sndcdn.com/artworks-fQLAkAzltg7i2lDE-bYj94w-original.jpg', 'view_counts': {'Spotify': [], 'Youtube': []}}\n",
      "Difference found\n",
      "{'isrc': 'USUG12405639', 'track_name': 'Move (feat. Keinemusik, Malachiii & Orso)', 'artist_name': 'Adam Port, Stryv & Camila Cabello', 'youtube_url': 'https://www.youtube.com/watch?v=95dB-ObZ7Ho', 'album_cover_url': 'https://is1-ssl.mzstatic.com/image/thumb/Music221/v4/07/64/cc/0764cc54-d6a1-8d1f-4381-737fd7a2ed02/24UM1IM06602.rgb.jpg/296x296bb-60.jpg'}\n",
      "{'isrc': 'USUG12405639', 'track_name': 'Move (feat. Keinemusik, Malachiii & Orso)', 'artist_name': 'Adam Port, Stryv & Camila Cabello', 'youtube_url': 'https://www.youtube.com/watch?v=95dB-ObZ7Ho', 'album_cover_url': 'https://is1-ssl.mzstatic.com/image/thumb/Music221/v4/07/64/cc/0764cc54-d6a1-8d1f-4381-737fd7a2ed02/24UM1IM06602.rgb.jpg/296x296bb-60.jpg', 'view_counts': {'Spotify': [], 'Youtube': []}}\n"
     ]
    }
   ],
   "source": []
  }
 ],
 "metadata": {
  "kernelspec": {
   "display_name": "Python 3",
   "language": "python",
   "name": "python3"
  },
  "language_info": {
   "codemirror_mode": {
    "name": "ipython",
    "version": 3
   },
   "file_extension": ".py",
   "mimetype": "text/x-python",
   "name": "python",
   "nbconvert_exporter": "python",
   "pygments_lexer": "ipython3",
   "version": "3.10.9"
  }
 },
 "nbformat": 4,
 "nbformat_minor": 2
}
